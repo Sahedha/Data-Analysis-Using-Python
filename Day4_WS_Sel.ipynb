{
 "cells": [
  {
   "cell_type": "code",
   "execution_count": 6,
   "id": "b5705dc1",
   "metadata": {},
   "outputs": [
    {
     "name": "stdout",
     "output_type": "stream",
     "text": [
      "Requirement already satisfied: selenium in c:\\users\\91756\\anaconda3\\lib\\site-packages (4.18.1)\n",
      "Requirement already satisfied: urllib3[socks]<3,>=1.26 in c:\\users\\91756\\anaconda3\\lib\\site-packages (from selenium) (1.26.16)\n",
      "Requirement already satisfied: trio~=0.17 in c:\\users\\91756\\anaconda3\\lib\\site-packages (from selenium) (0.24.0)\n",
      "Requirement already satisfied: trio-websocket~=0.9 in c:\\users\\91756\\anaconda3\\lib\\site-packages (from selenium) (0.11.1)\n",
      "Requirement already satisfied: certifi>=2021.10.8 in c:\\users\\91756\\anaconda3\\lib\\site-packages (from selenium) (2023.7.22)\n",
      "Requirement already satisfied: typing_extensions>=4.9.0 in c:\\users\\91756\\anaconda3\\lib\\site-packages (from selenium) (4.10.0)\n",
      "Requirement already satisfied: attrs>=20.1.0 in c:\\users\\91756\\anaconda3\\lib\\site-packages (from trio~=0.17->selenium) (22.1.0)\n",
      "Requirement already satisfied: sortedcontainers in c:\\users\\91756\\anaconda3\\lib\\site-packages (from trio~=0.17->selenium) (2.4.0)\n",
      "Requirement already satisfied: idna in c:\\users\\91756\\anaconda3\\lib\\site-packages (from trio~=0.17->selenium) (3.4)\n",
      "Requirement already satisfied: outcome in c:\\users\\91756\\anaconda3\\lib\\site-packages (from trio~=0.17->selenium) (1.3.0.post0)\n",
      "Requirement already satisfied: sniffio>=1.3.0 in c:\\users\\91756\\anaconda3\\lib\\site-packages (from trio~=0.17->selenium) (1.3.1)\n",
      "Requirement already satisfied: cffi>=1.14 in c:\\users\\91756\\anaconda3\\lib\\site-packages (from trio~=0.17->selenium) (1.15.1)\n",
      "Requirement already satisfied: wsproto>=0.14 in c:\\users\\91756\\anaconda3\\lib\\site-packages (from trio-websocket~=0.9->selenium) (1.2.0)\n",
      "Requirement already satisfied: PySocks!=1.5.7,<2.0,>=1.5.6 in c:\\users\\91756\\anaconda3\\lib\\site-packages (from urllib3[socks]<3,>=1.26->selenium) (1.7.1)\n",
      "Requirement already satisfied: pycparser in c:\\users\\91756\\anaconda3\\lib\\site-packages (from cffi>=1.14->trio~=0.17->selenium) (2.21)\n",
      "Requirement already satisfied: h11<1,>=0.9.0 in c:\\users\\91756\\anaconda3\\lib\\site-packages (from wsproto>=0.14->trio-websocket~=0.9->selenium) (0.14.0)\n",
      "Requirement already satisfied: webdriver_manager in c:\\users\\91756\\anaconda3\\lib\\site-packages (4.0.1)\n",
      "Requirement already satisfied: requests in c:\\users\\91756\\anaconda3\\lib\\site-packages (from webdriver_manager) (2.31.0)\n",
      "Requirement already satisfied: python-dotenv in c:\\users\\91756\\anaconda3\\lib\\site-packages (from webdriver_manager) (0.21.0)\n",
      "Requirement already satisfied: packaging in c:\\users\\91756\\anaconda3\\lib\\site-packages (from webdriver_manager) (23.1)\n",
      "Requirement already satisfied: charset-normalizer<4,>=2 in c:\\users\\91756\\anaconda3\\lib\\site-packages (from requests->webdriver_manager) (2.0.4)\n",
      "Requirement already satisfied: idna<4,>=2.5 in c:\\users\\91756\\anaconda3\\lib\\site-packages (from requests->webdriver_manager) (3.4)\n",
      "Requirement already satisfied: urllib3<3,>=1.21.1 in c:\\users\\91756\\anaconda3\\lib\\site-packages (from requests->webdriver_manager) (1.26.16)\n",
      "Requirement already satisfied: certifi>=2017.4.17 in c:\\users\\91756\\anaconda3\\lib\\site-packages (from requests->webdriver_manager) (2023.7.22)\n"
     ]
    }
   ],
   "source": [
    "!pip install selenium\n",
    "!pip install webdriver_manager"
   ]
  },
  {
   "cell_type": "code",
   "execution_count": 2,
   "id": "5038e51b",
   "metadata": {},
   "outputs": [],
   "source": [
    "from selenium import webdriver\n",
    "from selenium.webdriver.chrome.options import Options\n",
    "from selenium.webdriver.common.by import By\n",
    "from selenium.webdriver.common.keys import Keys\n",
    "from webdriver_manager.chrome import ChromeDriverManager\n",
    "import pandas as pd"
   ]
  },
  {
   "cell_type": "code",
   "execution_count": 3,
   "id": "8c2d55c7",
   "metadata": {},
   "outputs": [],
   "source": [
    "#Define options and set browser capabilities\n",
    "options = webdriver.ChromeOptions()\n",
    "#options.add_argument('--some-option')"
   ]
  },
  {
   "cell_type": "code",
   "execution_count": 4,
   "id": "6f44bc3e",
   "metadata": {},
   "outputs": [],
   "source": [
    "#Create Webdriver instance with options\n",
    "driver = webdriver.Chrome(options = options)"
   ]
  },
  {
   "cell_type": "code",
   "execution_count": 14,
   "id": "862bdd06",
   "metadata": {},
   "outputs": [],
   "source": [
    "#Navigate to a Website\n",
    "driver.get('https://www.myntra.com/?src=bc')"
   ]
  },
  {
   "cell_type": "code",
   "execution_count": 18,
   "id": "f8169c9e",
   "metadata": {},
   "outputs": [],
   "source": [
    "search = driver.find_element(By.XPATH,\".//input[@class='desktop-searchBar']\")"
   ]
  },
  {
   "cell_type": "code",
   "execution_count": 19,
   "id": "2850deb8",
   "metadata": {},
   "outputs": [],
   "source": [
    "search.send_keys(\"Cardigan Tops\")"
   ]
  },
  {
   "cell_type": "code",
   "execution_count": 20,
   "id": "ae2d318d",
   "metadata": {},
   "outputs": [],
   "source": [
    "search.send_keys(Keys.ENTER)"
   ]
  },
  {
   "cell_type": "code",
   "execution_count": 21,
   "id": "58dfd262",
   "metadata": {},
   "outputs": [
    {
     "name": "stdout",
     "output_type": "stream",
     "text": [
      "['JoE Hazel', 'JoE Hazel', 'JoE Hazel', 'Tokyo Talkies', 'Tokyo Talkies', 'Roadster', 'Tokyo Talkies', 'LULU & SKY', 'Ardene', 'LULU & SKY', 'Roadster', 'Roadster', 'Roadster']\n"
     ]
    }
   ],
   "source": [
    "brand = driver.find_elements(By.XPATH,\".//h3[@class='product-brand']\")\n",
    "brands = [i.text for i in brand]\n",
    "print(brands)"
   ]
  },
  {
   "cell_type": "code",
   "execution_count": 27,
   "id": "6eb2fdab",
   "metadata": {},
   "outputs": [],
   "source": [
    "desc = driver.find_elements(By.XPATH,\".//h4[@class='product-product']\")\n",
    "description = [i.text for i in desc]"
   ]
  },
  {
   "cell_type": "code",
   "execution_count": 28,
   "id": "cb7e533f",
   "metadata": {},
   "outputs": [
    {
     "name": "stdout",
     "output_type": "stream",
     "text": [
      "['Woman Pink Cardigan', 'Woman Green Cardigan', 'Woman Black Cardigan', 'Crop Top With Cardigan', 'Crop Top With Cardigan', 'Solid Cardigan Set', 'Crop Top With Cardigan Sweater', 'Crop Top With Cardigan', 'Cardigan Style Crop Top', 'Mandarin Collar Cardigan Top', 'Solid Cardigan Set', 'Solid Cardigan Set', 'Solid Cardigan Set']\n",
      "13\n"
     ]
    }
   ],
   "source": [
    "print(description)\n",
    "print(len(description))"
   ]
  },
  {
   "cell_type": "code",
   "execution_count": 31,
   "id": "532ca157",
   "metadata": {},
   "outputs": [],
   "source": [
    "pp = driver.find_elements(By.XPATH,\".//span[@class='product-discountedPrice']\")\n",
    "price = [i.text for i in pp]"
   ]
  },
  {
   "cell_type": "code",
   "execution_count": 32,
   "id": "04ed493e",
   "metadata": {},
   "outputs": [
    {
     "name": "stdout",
     "output_type": "stream",
     "text": [
      "['Rs. 699', 'Rs. 699', 'Rs. 699', 'Rs. 1956', 'Rs. 1399', 'Rs. 1079', 'Rs. 1549', 'Rs. 1856', 'Rs. 1899', 'Rs. 1681', 'Rs. 719', 'Rs. 839', 'Rs. 1079']\n",
      "13\n"
     ]
    }
   ],
   "source": [
    "print(price)\n",
    "print(len(price))"
   ]
  },
  {
   "cell_type": "code",
   "execution_count": 34,
   "id": "bb97152f",
   "metadata": {},
   "outputs": [
    {
     "data": {
      "text/html": [
       "<div>\n",
       "<style scoped>\n",
       "    .dataframe tbody tr th:only-of-type {\n",
       "        vertical-align: middle;\n",
       "    }\n",
       "\n",
       "    .dataframe tbody tr th {\n",
       "        vertical-align: top;\n",
       "    }\n",
       "\n",
       "    .dataframe thead th {\n",
       "        text-align: right;\n",
       "    }\n",
       "</style>\n",
       "<table border=\"1\" class=\"dataframe\">\n",
       "  <thead>\n",
       "    <tr style=\"text-align: right;\">\n",
       "      <th></th>\n",
       "      <th>Brands</th>\n",
       "      <th>Description</th>\n",
       "      <th>Price</th>\n",
       "    </tr>\n",
       "  </thead>\n",
       "  <tbody>\n",
       "  </tbody>\n",
       "</table>\n",
       "</div>"
      ],
      "text/plain": [
       "Empty DataFrame\n",
       "Columns: [Brands, Description, Price]\n",
       "Index: []"
      ]
     },
     "execution_count": 34,
     "metadata": {},
     "output_type": "execute_result"
    }
   ],
   "source": [
    "df = pd.DataFrame(columns = [\"Brands\",\"Description\",\"Price\"])\n",
    "df"
   ]
  },
  {
   "cell_type": "code",
   "execution_count": 35,
   "id": "c2d203b2",
   "metadata": {},
   "outputs": [],
   "source": [
    "df['Brands'] = brands\n",
    "df['Description']=description\n",
    "df['Price'] = price"
   ]
  },
  {
   "cell_type": "code",
   "execution_count": 36,
   "id": "031a339c",
   "metadata": {},
   "outputs": [
    {
     "data": {
      "text/html": [
       "<div>\n",
       "<style scoped>\n",
       "    .dataframe tbody tr th:only-of-type {\n",
       "        vertical-align: middle;\n",
       "    }\n",
       "\n",
       "    .dataframe tbody tr th {\n",
       "        vertical-align: top;\n",
       "    }\n",
       "\n",
       "    .dataframe thead th {\n",
       "        text-align: right;\n",
       "    }\n",
       "</style>\n",
       "<table border=\"1\" class=\"dataframe\">\n",
       "  <thead>\n",
       "    <tr style=\"text-align: right;\">\n",
       "      <th></th>\n",
       "      <th>Brands</th>\n",
       "      <th>Description</th>\n",
       "      <th>Price</th>\n",
       "    </tr>\n",
       "  </thead>\n",
       "  <tbody>\n",
       "    <tr>\n",
       "      <th>0</th>\n",
       "      <td>JoE Hazel</td>\n",
       "      <td>Woman Pink Cardigan</td>\n",
       "      <td>Rs. 699</td>\n",
       "    </tr>\n",
       "    <tr>\n",
       "      <th>1</th>\n",
       "      <td>JoE Hazel</td>\n",
       "      <td>Woman Green Cardigan</td>\n",
       "      <td>Rs. 699</td>\n",
       "    </tr>\n",
       "    <tr>\n",
       "      <th>2</th>\n",
       "      <td>JoE Hazel</td>\n",
       "      <td>Woman Black Cardigan</td>\n",
       "      <td>Rs. 699</td>\n",
       "    </tr>\n",
       "    <tr>\n",
       "      <th>3</th>\n",
       "      <td>Tokyo Talkies</td>\n",
       "      <td>Crop Top With Cardigan</td>\n",
       "      <td>Rs. 1956</td>\n",
       "    </tr>\n",
       "    <tr>\n",
       "      <th>4</th>\n",
       "      <td>Tokyo Talkies</td>\n",
       "      <td>Crop Top With Cardigan</td>\n",
       "      <td>Rs. 1399</td>\n",
       "    </tr>\n",
       "    <tr>\n",
       "      <th>5</th>\n",
       "      <td>Roadster</td>\n",
       "      <td>Solid Cardigan Set</td>\n",
       "      <td>Rs. 1079</td>\n",
       "    </tr>\n",
       "    <tr>\n",
       "      <th>6</th>\n",
       "      <td>Tokyo Talkies</td>\n",
       "      <td>Crop Top With Cardigan Sweater</td>\n",
       "      <td>Rs. 1549</td>\n",
       "    </tr>\n",
       "    <tr>\n",
       "      <th>7</th>\n",
       "      <td>LULU &amp; SKY</td>\n",
       "      <td>Crop Top With Cardigan</td>\n",
       "      <td>Rs. 1856</td>\n",
       "    </tr>\n",
       "    <tr>\n",
       "      <th>8</th>\n",
       "      <td>Ardene</td>\n",
       "      <td>Cardigan Style Crop Top</td>\n",
       "      <td>Rs. 1899</td>\n",
       "    </tr>\n",
       "    <tr>\n",
       "      <th>9</th>\n",
       "      <td>LULU &amp; SKY</td>\n",
       "      <td>Mandarin Collar Cardigan Top</td>\n",
       "      <td>Rs. 1681</td>\n",
       "    </tr>\n",
       "    <tr>\n",
       "      <th>10</th>\n",
       "      <td>Roadster</td>\n",
       "      <td>Solid Cardigan Set</td>\n",
       "      <td>Rs. 719</td>\n",
       "    </tr>\n",
       "    <tr>\n",
       "      <th>11</th>\n",
       "      <td>Roadster</td>\n",
       "      <td>Solid Cardigan Set</td>\n",
       "      <td>Rs. 839</td>\n",
       "    </tr>\n",
       "    <tr>\n",
       "      <th>12</th>\n",
       "      <td>Roadster</td>\n",
       "      <td>Solid Cardigan Set</td>\n",
       "      <td>Rs. 1079</td>\n",
       "    </tr>\n",
       "  </tbody>\n",
       "</table>\n",
       "</div>"
      ],
      "text/plain": [
       "           Brands                     Description     Price\n",
       "0       JoE Hazel             Woman Pink Cardigan   Rs. 699\n",
       "1       JoE Hazel            Woman Green Cardigan   Rs. 699\n",
       "2       JoE Hazel            Woman Black Cardigan   Rs. 699\n",
       "3   Tokyo Talkies          Crop Top With Cardigan  Rs. 1956\n",
       "4   Tokyo Talkies          Crop Top With Cardigan  Rs. 1399\n",
       "5        Roadster              Solid Cardigan Set  Rs. 1079\n",
       "6   Tokyo Talkies  Crop Top With Cardigan Sweater  Rs. 1549\n",
       "7      LULU & SKY          Crop Top With Cardigan  Rs. 1856\n",
       "8          Ardene         Cardigan Style Crop Top  Rs. 1899\n",
       "9      LULU & SKY    Mandarin Collar Cardigan Top  Rs. 1681\n",
       "10       Roadster              Solid Cardigan Set   Rs. 719\n",
       "11       Roadster              Solid Cardigan Set   Rs. 839\n",
       "12       Roadster              Solid Cardigan Set  Rs. 1079"
      ]
     },
     "execution_count": 36,
     "metadata": {},
     "output_type": "execute_result"
    }
   ],
   "source": [
    "df"
   ]
  },
  {
   "cell_type": "code",
   "execution_count": 37,
   "id": "023cd202",
   "metadata": {},
   "outputs": [],
   "source": [
    "df.to_csv(\"Myntra.csv\")"
   ]
  },
  {
   "cell_type": "code",
   "execution_count": 1,
   "id": "575a1b33",
   "metadata": {},
   "outputs": [
    {
     "ename": "NameError",
     "evalue": "name 'webdriver' is not defined",
     "output_type": "error",
     "traceback": [
      "\u001b[1;31m---------------------------------------------------------------------------\u001b[0m",
      "\u001b[1;31mNameError\u001b[0m                                 Traceback (most recent call last)",
      "Cell \u001b[1;32mIn[1], line 3\u001b[0m\n\u001b[0;32m      1\u001b[0m \u001b[38;5;66;03m#TOP 10 DELL LAPTOPS FROM AMAZON.IN USING SELENIUM\u001b[39;00m\n\u001b[0;32m      2\u001b[0m \u001b[38;5;66;03m#Define options and set browser capabilities\u001b[39;00m\n\u001b[1;32m----> 3\u001b[0m options \u001b[38;5;241m=\u001b[39m webdriver\u001b[38;5;241m.\u001b[39mChromeOptions()\n",
      "\u001b[1;31mNameError\u001b[0m: name 'webdriver' is not defined"
     ]
    }
   ],
   "source": [
    "#TOP 10 DELL LAPTOPS FROM AMAZON.IN USING SELENIUM\n",
    "#Define options and set browser capabilities\n",
    "options = webdriver.ChromeOptions()\n",
    "#options.add_argument('--some-option')\n"
   ]
  },
  {
   "cell_type": "code",
   "execution_count": 3,
   "id": "16c2d066",
   "metadata": {},
   "outputs": [],
   "source": [
    "#Create Webdriver instance with options\n",
    "driver = webdriver.Chrome(options = options)"
   ]
  },
  {
   "cell_type": "code",
   "execution_count": 5,
   "id": "a608d716",
   "metadata": {},
   "outputs": [],
   "source": [
    "#Navigate to a Website\n",
    "driver.get('https://www.amazon.in/?&tag=googhydrabk1-21&ref=pd_sl_5km84u9k2k_e&adgrpid=155259813113&hvpone=&hvptwo=&hvadid=676742245333&hvpos=&hvnetw=g&hvrand=14621050483678495818&hvqmt=e&hvdev=c&hvdvcmdl=&hvlocint=&hvlocphy=1007740&hvtargid=kwd-304880464215&hydadcr=14450_2367558&gad_source=1')"
   ]
  },
  {
   "cell_type": "code",
   "execution_count": 6,
   "id": "33f7bc17",
   "metadata": {},
   "outputs": [],
   "source": [
    "search = driver.find_element(By.XPATH,\".//input[@class='nav-input nav-progressive-attribute']\")"
   ]
  },
  {
   "cell_type": "code",
   "execution_count": 7,
   "id": "53fd46c2",
   "metadata": {},
   "outputs": [],
   "source": [
    "search.send_keys(\"Top 10 Best Dell Laptops\")"
   ]
  },
  {
   "cell_type": "code",
   "execution_count": 8,
   "id": "06c35075",
   "metadata": {},
   "outputs": [],
   "source": [
    "search.send_keys(Keys.ENTER)"
   ]
  },
  {
   "cell_type": "code",
   "execution_count": 9,
   "id": "0de7d94d",
   "metadata": {},
   "outputs": [],
   "source": [
    "Prod = driver.find_elements(By.XPATH,\".//h2[@class='a-size-mini a-spacing-none a-color-base s-line-clamp-2']\")"
   ]
  },
  {
   "cell_type": "code",
   "execution_count": 10,
   "id": "fc2ee9cb",
   "metadata": {},
   "outputs": [
    {
     "name": "stdout",
     "output_type": "stream",
     "text": [
      "['Dell 15 Laptop, Intel Core i5-1135G7 Processor/ 8GB DDR4/ 512GB SSD/ 15.6\" (39.62cm) FHD/Mobile Connect/Windows 11 + MSO\\'21/15 Month McAfee/Spill-Resistant Keyboard/Carbon Black/Thin & Light-1.69kg', 'Dell 14 Laptop, 12th Gen Intel Core i5-1235U Processor, 16GB, 512GB, 14.0\" (35.56cm) FHD Display, Windows 11 + MSO\\'21, Spill-Resistant Keyboard, 15 Month Mcafee, Black, Thin & Light- 1.48kg', 'Dell G15 5520 Gaming Laptop, Intel i5-12500H, 16GB DDR5, 512GB SSD, NVIDIA RTX 3050 (4GB GDDR6), 15.6\"(39.62cm) FHD 120Hz 250 nits Display, Backlit KB Orange, Win 11 + MSO\\'21, Dark Shadow Grey, 2.81kg', 'Dell 15 Laptop, Intel 12th Gen Core i3-1215U Proc/8GB DDR4/512GB SSD/Intel UHD Graphic/15.6\" (38cm) FHD Display/Spill-Resistant Keyboard/Win11+MSO\\'21/15 Month McAfee/Black/Thin & Light 1.69kg', 'Dell 14 Laptop, Intel Core i5-1135G7 Processor/8GB/512GB/Intel UHD Graphic/14.0\" (35.6cm) FHD with Comfort View/Spill-Resistant Keyboard/Thin & Light 1.48kg/ Win 11+ MSO\\'21/15 Month McAfee/Titan Grey', 'Dell 15 Laptop, Intel Core i3-1115G4 Processor/8GB DDR4/512GB SSD/Intel UHD Graphics/15.6\" (39.6cm) FHD 120Hz Refresh, 250 nits/Mobile Connect/Win 11+MSO\\'21/15 Month McAfee/Black/Thin & Light-1.66kg', 'Dell 14 Laptop, 12th Gen Intel Core i5-1235U Processor, 16GB, 512GB, 14.0\" (35.56cm) FHD Display, Windows 11 + MSO\\'21, Spill-Resistant Keyboard, 15 Month Mcafee, Black, Thin & Light- 1.48kg', 'Dell 15 Laptop, Intel Core i5-1135G7 Processor/16GB DDR4/512GB SSD/Intel UHD Graphic/15.6\" (39.562cm) FHD Display/Win 11+MSO\\'21/15 Month McAfee/Spill-Resistant Keyboard/Carbon/Thin & Light 1.69kg', 'Dell 14 Laptop, 12th Gen Intel Core i3-1215U Processor/8GB/512GB SSD/Intel UHD Graphics/14.0\"(35.56cm) FHD/Windows 11 + MSO\\'21/15 Month McAfee/Spill-Resistant Keyboard/Grey/Thin & Light 1.48kg', 'Dell Inspiron 7430 2in1 Touch Laptop, 13th Gen Intel Core i3-1315U/8GB/1TB SSD/14.0\" (35.56cm) FHD+,16:10 Aspect Ratio/Backlit KB+FPR/Win 11+MSO\\'21/15 Months McAfee/Platinum Silver/Thin & Light-1.58kg', 'HP Victus Gaming Laptop, AMD Ryzen 7 7840HS AI Powered, 6GB RTX 3050 GPU, 16.1-inch (40.9 cm), 95W TGP, FHD, IPS, 144Hz, 16GB DDR5, 1TB SSD, RGB Backlit KB, B&O (MSO, Blue, 2.29 kg), s0089AX', 'HP OMEN Gaming Laptop, AMD Ryzen 7 6800H, 8GB RTX 3070Ti GPU, 16.1-inch (40.9 cm), QHD, IPS, 165Hz, 16GB DDR5, 1TB SSD, 300 nits, RGB Backlit KB, B&O, Dual Speakers (MSO, Silver, 2.37 kg), n0123AX', 'Dell 15 Laptop, Intel Core i5-1135G7 Processor/ 8GB DDR4/ 512GB SSD/ 15.6\" (39.62cm) FHD/Mobile Connect/Windows 11 + MSO\\'21/15 Month McAfee/Spill-Resistant Keyboard/Carbon Black/Thin & Light-1.69kg', 'Dell Inspiron 3520 Laptop, 12th Gen Intel Core i5-1235U Processor, 8GB, 1TB HDD + 256GB SSD, 15.6\" (39.62cm) FHD WVA AG 120Hz 250 nits, Windows 11 + MSO\\'21, 15 Month McAfee, Black, 1.65Kgs', 'Dell G15 5520 Gaming Laptop, Intel i5-12500H/16GB DDR5/1TB SSD/15.6\" (39.62cm) FHD WVA AG 120Hz 250 nits/NVIDIA RTX 3050, 4 GB GDDR6/Win 11 + MSO\\'21/15 Months McAfee/Backlit KB/Dark Shadow Grey/2.81kg', 'Dell Inspiron 3525 Laptop, AMD Ryzen R3-5425U/8GB/512GB/15.6\" (39.62cm) FHD, 3 Sided Narrow Border Design with 120Hz FHD Display/Windows 11 + MSO\\'21/McAfee 15 Months/Carbon Black/Thin & Light-1.68kg', 'Dell 15 Laptop, 12th Gen Intel Core i5-1235U Processor, 8GB, 512GB SSD, 15.6\" (39.62cm) FHD Display, Win 11 + MSO\\'21, 15 Month McAfee Antivirus, Black, Spill-Resistant Keyboard, Thin & Light- 1.66kg', 'Dell Inspiron 3511 Laptop, Intel Core i5-1135G7, 8GB, 512GB SSD, 15.6\" (39.62cm) 3 Sided Narrow Border Design with FHD Display/Windows 11 + MSO\\'21/McAfee 15 Months/Carbon Black/1.8kg', 'Dell 15 Laptop, Intel Core i3-1115G4, 8GB/1TB + 256GB SSD/15.6\" (39.62cm) FHD with Comfort View/Mobile Connect/Windows 11 + MSO\\'21/15 Month McAfee/Spill-Resistant Keyboard/Carbon/Thin & Light-1.69kg', 'Dell Inspiron 3520 Laptop, Intel Core i5-1235U Processor, 8GB, 512GB SSD, 15.6\" (39.62cm) FHD 120Hz 250 nits, Win 11 + MSO\\'21, Backlit KB, 15 Months McAfee, Silver, 1.65kg', 'Dell 14 Laptop, 12th Gen Intel Core i3-1215U Processor/8GB/512GB SSD/Intel UHD Graphics/14.0\"(35.56cm) FHD/Windows 11 + MSO\\'21/15 Month McAfee/Spill-Resistant Keyboard/Grey/Thin & Light 1.48kg', 'Dell Inspiron 3520 Laptop, Intel Core i5-1235U Processor, 8GB, 512GB, 15.6\" (39.62cm) FHD WVA AG 120Hz 250 nits, Win 11 + MSO\\'21, 15 Month MCAfee, Black, 1.65kg']\n",
      "22\n"
     ]
    }
   ],
   "source": [
    "\n",
    "Product = [i.text for i in Prod]\n",
    "print(Product)\n",
    "print(len(Product))"
   ]
  },
  {
   "cell_type": "code",
   "execution_count": 22,
   "id": "1f228f67",
   "metadata": {},
   "outputs": [
    {
     "name": "stdout",
     "output_type": "stream",
     "text": [
      "[]\n",
      "0\n"
     ]
    }
   ],
   "source": [
    "Review = driver.find_elements(By.XPATH,\".//span[@class='a-size-base s-undeline-text']\")\n",
    "Reviews = [i.symbol for i in Review]\n",
    "print(Reviews)\n",
    "print(len(Reviews))"
   ]
  },
  {
   "cell_type": "code",
   "execution_count": 15,
   "id": "3f9763d8",
   "metadata": {},
   "outputs": [
    {
     "name": "stdout",
     "output_type": "stream",
     "text": [
      "['43,990', '49,990', '71,990', '35,990', '44,990', '199', '33,990', '49,990', '47,990', '35,990', '69,999', '81,990', '1,09,990', '43,990', '57,899', '76,990', '39,029', '47,490', '46,999', '34,990', '50,499', '35,990', '46,550']\n",
      "23\n"
     ]
    }
   ],
   "source": [
    "pp = driver.find_elements(By.XPATH,\".//span[@class='a-price-whole']\")\n",
    "price = [i.text for i in pp]\n",
    "print(price)\n",
    "print(len(price))"
   ]
  },
  {
   "cell_type": "code",
   "execution_count": 16,
   "id": "98ef89c2",
   "metadata": {},
   "outputs": [
    {
     "data": {
      "text/html": [
       "<div>\n",
       "<style scoped>\n",
       "    .dataframe tbody tr th:only-of-type {\n",
       "        vertical-align: middle;\n",
       "    }\n",
       "\n",
       "    .dataframe tbody tr th {\n",
       "        vertical-align: top;\n",
       "    }\n",
       "\n",
       "    .dataframe thead th {\n",
       "        text-align: right;\n",
       "    }\n",
       "</style>\n",
       "<table border=\"1\" class=\"dataframe\">\n",
       "  <thead>\n",
       "    <tr style=\"text-align: right;\">\n",
       "      <th></th>\n",
       "      <th>Product &amp; Description</th>\n",
       "      <th>Price</th>\n",
       "    </tr>\n",
       "  </thead>\n",
       "  <tbody>\n",
       "  </tbody>\n",
       "</table>\n",
       "</div>"
      ],
      "text/plain": [
       "Empty DataFrame\n",
       "Columns: [Product & Description, Price]\n",
       "Index: []"
      ]
     },
     "execution_count": 16,
     "metadata": {},
     "output_type": "execute_result"
    }
   ],
   "source": [
    "df1 = pd.DataFrame(columns = [\"Product & Description\",\"Price\"])\n",
    "df1"
   ]
  },
  {
   "cell_type": "code",
   "execution_count": 30,
   "id": "223cb988",
   "metadata": {},
   "outputs": [],
   "source": [
    "df1['Product & Description'] = Product[0:22]\n",
    "sp = price[0:3]\n",
    "np = price[4:23]\n",
    "df1['Price'] = sp + np"
   ]
  },
  {
   "cell_type": "code",
   "execution_count": 31,
   "id": "7b5ff626",
   "metadata": {},
   "outputs": [
    {
     "name": "stdout",
     "output_type": "stream",
     "text": [
      "                                Product & Description     Price\n",
      "0   Dell 15 Laptop, Intel Core i5-1135G7 Processor...    43,990\n",
      "1   Dell 14 Laptop, 12th Gen Intel Core i5-1235U P...    49,990\n",
      "2   Dell G15 5520 Gaming Laptop, Intel i5-12500H, ...    71,990\n",
      "3   Dell 15 Laptop, Intel 12th Gen Core i3-1215U P...    44,990\n",
      "4   Dell 14 Laptop, Intel Core i5-1135G7 Processor...       199\n",
      "5   Dell 15 Laptop, Intel Core i3-1115G4 Processor...    33,990\n",
      "6   Dell 14 Laptop, 12th Gen Intel Core i5-1235U P...    49,990\n",
      "7   Dell 15 Laptop, Intel Core i5-1135G7 Processor...    47,990\n",
      "8   Dell 14 Laptop, 12th Gen Intel Core i3-1215U P...    35,990\n",
      "9   Dell Inspiron 7430 2in1 Touch Laptop, 13th Gen...    69,999\n",
      "10  HP Victus Gaming Laptop, AMD Ryzen 7 7840HS AI...    81,990\n",
      "11  HP OMEN Gaming Laptop, AMD Ryzen 7 6800H, 8GB ...  1,09,990\n",
      "12  Dell 15 Laptop, Intel Core i5-1135G7 Processor...    43,990\n",
      "13  Dell Inspiron 3520 Laptop, 12th Gen Intel Core...    57,899\n",
      "14  Dell G15 5520 Gaming Laptop, Intel i5-12500H/1...    76,990\n",
      "15  Dell Inspiron 3525 Laptop, AMD Ryzen R3-5425U/...    39,029\n",
      "16  Dell 15 Laptop, 12th Gen Intel Core i5-1235U P...    47,490\n",
      "17  Dell Inspiron 3511 Laptop, Intel Core i5-1135G...    46,999\n",
      "18  Dell 15 Laptop, Intel Core i3-1115G4, 8GB/1TB ...    34,990\n",
      "19  Dell Inspiron 3520 Laptop, Intel Core i5-1235U...    50,499\n",
      "20  Dell 14 Laptop, 12th Gen Intel Core i3-1215U P...    35,990\n",
      "21  Dell Inspiron 3520 Laptop, Intel Core i5-1235U...    46,550\n"
     ]
    }
   ],
   "source": [
    "print(df1)"
   ]
  },
  {
   "cell_type": "code",
   "execution_count": 32,
   "id": "ec62fee5",
   "metadata": {},
   "outputs": [],
   "source": [
    "df1.to_csv(\"Delllp.csv\")"
   ]
  },
  {
   "cell_type": "code",
   "execution_count": 32,
   "id": "a97a0a24",
   "metadata": {},
   "outputs": [],
   "source": [
    "#scrape smartwatches from myntra\n",
    "#Define options and set browser capabilities\n",
    "options = webdriver.ChromeOptions()\n",
    "#options.add_argument('--some-option')"
   ]
  },
  {
   "cell_type": "code",
   "execution_count": 33,
   "id": "1a67033c",
   "metadata": {},
   "outputs": [],
   "source": [
    "#Create Webdriver instance with options\n",
    "driver = webdriver.Chrome(options = options)"
   ]
  },
  {
   "cell_type": "code",
   "execution_count": 34,
   "id": "9cf6521c",
   "metadata": {},
   "outputs": [],
   "source": [
    "#Navigate to a Website\n",
    "driver.get(\"https://www.myntra.com/\")"
   ]
  },
  {
   "cell_type": "code",
   "execution_count": 36,
   "id": "f79e52ea",
   "metadata": {},
   "outputs": [],
   "source": [
    "search = driver.find_element(By.XPATH,\".//input[@class='desktop-searchBar']\")"
   ]
  },
  {
   "cell_type": "code",
   "execution_count": 37,
   "id": "1dcba233",
   "metadata": {},
   "outputs": [],
   "source": [
    "search.send_keys(\"Smart Watches\")"
   ]
  },
  {
   "cell_type": "code",
   "execution_count": 38,
   "id": "0fb76bdf",
   "metadata": {},
   "outputs": [],
   "source": [
    "search.send_keys(Keys.ENTER)"
   ]
  },
  {
   "cell_type": "code",
   "execution_count": 39,
   "id": "e5e7d15f",
   "metadata": {},
   "outputs": [
    {
     "name": "stdout",
     "output_type": "stream",
     "text": [
      "['Fire-Boltt', 'boAt', 'NOISE', 'CMF by Nothing', 'Cultsport', 'pebble', 'NOISE', 'pebble', 'Fire-Boltt', 'pebble', 'Fire-Boltt', 'boAt', 'NOISE', 'Fire-Boltt', 'boAt', 'Fire-Boltt', 'NOISE', 'CMF by Nothing', 'pebble', 'NOISE', 'pebble', 'NOISE', 'Fire-Boltt', 'Fire-Boltt', 'pebble', 'Fire-Boltt', 'Fastrack', 'Fire-Boltt', 'NOISE', 'Fire-Boltt', 'pebble', 'boAt', 'Fire-Boltt', 'Fastrack', 'Fire-Boltt', 'pebble', 'Fire-Boltt', 'pebble', 'Fire-Boltt', 'NOISE', 'Fire-Boltt', 'CMF by Nothing', 'NOISE', 'Fire-Boltt', 'Realme', 'Fastrack', 'NOISE', 'NOISE', 'Realme', 'Timex']\n"
     ]
    }
   ],
   "source": [
    "brand = driver.find_elements(By.XPATH,\".//h3[@class='product-brand']\")\n",
    "brands = [i.text for i in brand]\n",
    "print(brands)"
   ]
  },
  {
   "cell_type": "code",
   "execution_count": 40,
   "id": "9a48690c",
   "metadata": {},
   "outputs": [
    {
     "name": "stdout",
     "output_type": "stream",
     "text": [
      "['Rock AMOLED Display Smartwatch', 'Unisex Wave Genesis Smartwatch', 'Fit Posh Smartwatch', 'Watch Pro', 'Ace XR 1.43\" Smart Watches', 'Women 1.27\" Smart Watch', 'Mettle EliteEdition Smartwatch', 'Celia 1.32\" Display SmartWatch', 'Eclipse Luxe 1.43\" Amoled', 'Cosmos Ultra 1.91\" BT Calling Smartwatch', 'Starlight Bluetooth Smartwatch', 'Ultima Connect Max HD Display', 'ColorFit Vision 3 Smartwatch', 'Hurricane Smartwatch', 'Ultima BT Calling Smartwatch', 'Aura BT Calling Smartwatch', 'ColorFit Icon 2 Smartwatch', 'Watch Pro', 'Cosmos Ultra 1.91\" BT Calling Smartwatch', 'Fit Posh Smartwatch', 'Cosmos Quest Smartwatch', 'ColorFit Icon 2 Smartwatch', 'Hurricane Smartwatch', 'Crusader Amoled 1.43BT Calling', 'Cosmos Ultra 1.91\" BT Calling Smartwatch', 'Avalanche Luxury Smart Watch', '1.91\" HD Display Smartwatch', 'Eclipse Luxe 1.43\" Amoled', 'ColorFit Pro 5 Max Smartwatch', 'Grenade BT Calling Smartwatch', 'BT Calling Luxury Smartwatch', 'Enigma Z40 Smartwatch', 'Visionary TWS Smartwatch', 'FS2 BT Calling Smartwatch', 'Cobra AMOLED Smart Watch', 'Women 1.27\" Smart Watch', 'Supernova Bluetooth SmartWatch', 'Hive 1.39\" Display Smart Watch', 'Hulk 1.78 inch Smartwatch', 'Fit Posh Smartwatch', 'Hulk 1.78 inch Smartwatch', 'Watch Pro', 'ColorFit Caliber Smartwatch', 'Hurricane Smartwatch', 'TechLife Watch S100', 'Vigor HD Display Smartwatch', 'ColorFit Pro 5 Smartwatch', 'Evolve 3 Smartwatch', 'TechLife Watch S100', 'FitGen Smart Watches']\n"
     ]
    }
   ],
   "source": [
    "desc = driver.find_elements(By.XPATH,\".//h4[@class='product-product']\")\n",
    "description = [i.text for i in desc]\n",
    "print(description)"
   ]
  },
  {
   "cell_type": "code",
   "execution_count": 41,
   "id": "3b3cb0b1",
   "metadata": {},
   "outputs": [
    {
     "name": "stdout",
     "output_type": "stream",
     "text": [
      "['Rs. 3199', 'Rs. 1899', 'Rs. 1799', 'Rs. 3499', 'Rs. 2799', 'Rs. 2299', 'Rs. 2249', 'Rs. 2299', 'Rs. 1799', 'Rs. 1599', 'Rs. 1599', 'Rs. 1899', 'Rs. 3499', 'Rs. 1700', 'Rs. 1899', 'Rs. 1999', 'Rs. 1799', 'Rs. 3499', 'Rs. 1599', 'Rs. 1799', 'Rs. 2499', 'Rs. 1799', 'Rs. 1850', 'Rs. 1899', 'Rs. 1599', 'Rs. 2199', 'Rs. 2995', 'Rs. 1999', 'Rs. 4999', 'Rs. 1699', 'Rs. 1999', 'Rs. 4799', 'Rs. 2499', 'Rs. 1999', 'Rs. 1899', 'Rs. 2299', 'Rs. 1899', 'Rs. 1699', 'Rs. 1799', 'Rs. 1799', 'Rs. 1799', 'Rs. 3499', 'Rs. 999', 'Rs. 1899', 'Rs. 2499', 'Rs. 2495', 'Rs. 3999', 'Rs. 2449', 'Rs. 2499', 'Rs. 3497']\n",
      "50\n"
     ]
    }
   ],
   "source": [
    "pp = driver.find_elements(By.XPATH,\".//span[@class='product-discountedPrice']\")\n",
    "price = [i.text for i in pp]\n",
    "print(price)\n",
    "print(len(price))"
   ]
  },
  {
   "cell_type": "code",
   "execution_count": 42,
   "id": "540d0304",
   "metadata": {},
   "outputs": [
    {
     "data": {
      "text/html": [
       "<div>\n",
       "<style scoped>\n",
       "    .dataframe tbody tr th:only-of-type {\n",
       "        vertical-align: middle;\n",
       "    }\n",
       "\n",
       "    .dataframe tbody tr th {\n",
       "        vertical-align: top;\n",
       "    }\n",
       "\n",
       "    .dataframe thead th {\n",
       "        text-align: right;\n",
       "    }\n",
       "</style>\n",
       "<table border=\"1\" class=\"dataframe\">\n",
       "  <thead>\n",
       "    <tr style=\"text-align: right;\">\n",
       "      <th></th>\n",
       "      <th>Brands</th>\n",
       "      <th>Description</th>\n",
       "      <th>Price</th>\n",
       "    </tr>\n",
       "  </thead>\n",
       "  <tbody>\n",
       "  </tbody>\n",
       "</table>\n",
       "</div>"
      ],
      "text/plain": [
       "Empty DataFrame\n",
       "Columns: [Brands, Description, Price]\n",
       "Index: []"
      ]
     },
     "execution_count": 42,
     "metadata": {},
     "output_type": "execute_result"
    }
   ],
   "source": [
    "df2 = pd.DataFrame(columns = [\"Brands\",\"Description\",\"Price\"])\n",
    "df2"
   ]
  },
  {
   "cell_type": "code",
   "execution_count": 44,
   "id": "ea7d3be3",
   "metadata": {},
   "outputs": [],
   "source": [
    "df2['Brands'] = brands\n",
    "df2['Description']=description\n",
    "df2['Price'] = price"
   ]
  },
  {
   "cell_type": "code",
   "execution_count": 45,
   "id": "5d06bda9",
   "metadata": {},
   "outputs": [
    {
     "name": "stdout",
     "output_type": "stream",
     "text": [
      "            Brands                               Description     Price\n",
      "0       Fire-Boltt            Rock AMOLED Display Smartwatch  Rs. 3199\n",
      "1             boAt            Unisex Wave Genesis Smartwatch  Rs. 1899\n",
      "2            NOISE                       Fit Posh Smartwatch  Rs. 1799\n",
      "3   CMF by Nothing                                 Watch Pro  Rs. 3499\n",
      "4        Cultsport                Ace XR 1.43\" Smart Watches  Rs. 2799\n",
      "5           pebble                   Women 1.27\" Smart Watch  Rs. 2299\n",
      "6            NOISE            Mettle EliteEdition Smartwatch  Rs. 2249\n",
      "7           pebble            Celia 1.32\" Display SmartWatch  Rs. 2299\n",
      "8       Fire-Boltt                 Eclipse Luxe 1.43\" Amoled  Rs. 1799\n",
      "9           pebble  Cosmos Ultra 1.91\" BT Calling Smartwatch  Rs. 1599\n",
      "10      Fire-Boltt            Starlight Bluetooth Smartwatch  Rs. 1599\n",
      "11            boAt             Ultima Connect Max HD Display  Rs. 1899\n",
      "12           NOISE              ColorFit Vision 3 Smartwatch  Rs. 3499\n",
      "13      Fire-Boltt                      Hurricane Smartwatch  Rs. 1700\n",
      "14            boAt              Ultima BT Calling Smartwatch  Rs. 1899\n",
      "15      Fire-Boltt                Aura BT Calling Smartwatch  Rs. 1999\n",
      "16           NOISE                ColorFit Icon 2 Smartwatch  Rs. 1799\n",
      "17  CMF by Nothing                                 Watch Pro  Rs. 3499\n",
      "18          pebble  Cosmos Ultra 1.91\" BT Calling Smartwatch  Rs. 1599\n",
      "19           NOISE                       Fit Posh Smartwatch  Rs. 1799\n",
      "20          pebble                   Cosmos Quest Smartwatch  Rs. 2499\n",
      "21           NOISE                ColorFit Icon 2 Smartwatch  Rs. 1799\n",
      "22      Fire-Boltt                      Hurricane Smartwatch  Rs. 1850\n",
      "23      Fire-Boltt            Crusader Amoled 1.43BT Calling  Rs. 1899\n",
      "24          pebble  Cosmos Ultra 1.91\" BT Calling Smartwatch  Rs. 1599\n",
      "25      Fire-Boltt              Avalanche Luxury Smart Watch  Rs. 2199\n",
      "26        Fastrack               1.91\" HD Display Smartwatch  Rs. 2995\n",
      "27      Fire-Boltt                 Eclipse Luxe 1.43\" Amoled  Rs. 1999\n",
      "28           NOISE             ColorFit Pro 5 Max Smartwatch  Rs. 4999\n",
      "29      Fire-Boltt             Grenade BT Calling Smartwatch  Rs. 1699\n",
      "30          pebble              BT Calling Luxury Smartwatch  Rs. 1999\n",
      "31            boAt                     Enigma Z40 Smartwatch  Rs. 4799\n",
      "32      Fire-Boltt                  Visionary TWS Smartwatch  Rs. 2499\n",
      "33        Fastrack                 FS2 BT Calling Smartwatch  Rs. 1999\n",
      "34      Fire-Boltt                  Cobra AMOLED Smart Watch  Rs. 1899\n",
      "35          pebble                   Women 1.27\" Smart Watch  Rs. 2299\n",
      "36      Fire-Boltt            Supernova Bluetooth SmartWatch  Rs. 1899\n",
      "37          pebble            Hive 1.39\" Display Smart Watch  Rs. 1699\n",
      "38      Fire-Boltt                 Hulk 1.78 inch Smartwatch  Rs. 1799\n",
      "39           NOISE                       Fit Posh Smartwatch  Rs. 1799\n",
      "40      Fire-Boltt                 Hulk 1.78 inch Smartwatch  Rs. 1799\n",
      "41  CMF by Nothing                                 Watch Pro  Rs. 3499\n",
      "42           NOISE               ColorFit Caliber Smartwatch   Rs. 999\n",
      "43      Fire-Boltt                      Hurricane Smartwatch  Rs. 1899\n",
      "44          Realme                       TechLife Watch S100  Rs. 2499\n",
      "45        Fastrack               Vigor HD Display Smartwatch  Rs. 2495\n",
      "46           NOISE                 ColorFit Pro 5 Smartwatch  Rs. 3999\n",
      "47           NOISE                       Evolve 3 Smartwatch  Rs. 2449\n",
      "48          Realme                       TechLife Watch S100  Rs. 2499\n",
      "49           Timex                      FitGen Smart Watches  Rs. 3497\n"
     ]
    }
   ],
   "source": [
    "print(df2)"
   ]
  },
  {
   "cell_type": "code",
   "execution_count": 46,
   "id": "081154e7",
   "metadata": {},
   "outputs": [],
   "source": [
    "df2.to_csv(\"MSmartWatches.csv\")"
   ]
  }
 ],
 "metadata": {
  "kernelspec": {
   "display_name": "Python 3 (ipykernel)",
   "language": "python",
   "name": "python3"
  },
  "language_info": {
   "codemirror_mode": {
    "name": "ipython",
    "version": 3
   },
   "file_extension": ".py",
   "mimetype": "text/x-python",
   "name": "python",
   "nbconvert_exporter": "python",
   "pygments_lexer": "ipython3",
   "version": "3.11.5"
  }
 },
 "nbformat": 4,
 "nbformat_minor": 5
}
